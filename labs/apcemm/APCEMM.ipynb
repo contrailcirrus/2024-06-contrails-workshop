{
 "cells": [
  {
   "cell_type": "markdown",
   "id": "01bbac0e-69b4-4dfa-94ec-f42ae1e8c4ab",
   "metadata": {},
   "source": [
    "# Lab 2b: getting started with APCEMM\n",
    "\n",
    "<a target=\"_blank\" href=\"https://colab.research.google.com/github/contrailcirrus/2024-06-contrails-workshop/blob/main/labs/apcemm/APCEMM.ipynb\">\n",
    "  <img src=\"https://colab.research.google.com/assets/colab-badge.svg\" alt=\"Open In Colab\"/>\n",
    "</a>\n",
    "\n",
    "**Tristan Abbott (tristan.abbott@breakthroughenergy.org)**\n",
    "\n",
    "This lab provides an introduction to the Aircraft Plume Chemistry Emission and Microphysics Model (APCEMM), an intermediate-complexity contrail model developed at the [MIT Laboratory for Aviation and the Environment](https://lae.mit.edu/), and demonstrates how to use a [pycontrails](https://py.contrails.org/) interface to APCEMM to easily run APCEMM using real-world flight and meteorology data."
   ]
  },
  {
   "cell_type": "markdown",
   "id": "cc153ad7-2549-4f61-83c0-0cb018dfd340",
   "metadata": {},
   "source": [
    "## Building APCEMM\n",
    "\n",
    "APCEMM (https://github.com/MIT-LAE/APCEMM) is written in C++ and must be compiled before use. The build process is straightforward but can take up to an hour if dependencies (managed by vcpkg) also have to be built. The first cell below contains commands for building APCEMM locally, with the source code pinned to the most recent commit hash tested in the pycontrails interface. The second cell downloads and unzips the result from building APCEMM in Colab.\n",
    "\n",
    "Lab attendees should run the second cell to download the pre-built version. (This approach is somewhat fragile--the pre-built version may not work if different Colab instances run on sufficiently different architectures--but building APCEMM from scratch would take up most of the lab.)"
   ]
  },
  {
   "cell_type": "code",
   "execution_count": null,
   "id": "3b5ceee7-b6c5-40d8-8548-321e99e7f87a",
   "metadata": {
    "scrolled": true
   },
   "outputs": [],
   "source": [
    "# build APCEMM locally (~45 minutes)\n",
    "!git clone https://github.com/MIT-LAE/APCEMM ~/APCEMM && \\\n",
    "    cd ~/APCEMM && \\\n",
    "    git reset --hard 9d8e1ee && \\\n",
    "    git submodule update --init --recursive && \\\n",
    "    mkdir build && \\\n",
    "    cd build && \\\n",
    "    cmake ../Code.v05-00 && \\\n",
    "    cmake --build ."
   ]
  },
  {
   "cell_type": "code",
   "execution_count": null,
   "id": "c1ad5ecb-69e8-4f10-a38e-2ed07117a9e7",
   "metadata": {
    "scrolled": true
   },
   "outputs": [],
   "source": [
    "# download results from building APCEMM in Colab (<5 minutes)\n",
    "!cd ~ && wget https://storage.googleapis.com/2024-06-contrails-workshop/apcemm/APCEMM.zip && unzip APCEMM.zip && rm APCEMM.zip"
   ]
  },
  {
   "cell_type": "markdown",
   "id": "895f485b-b951-49c5-825e-5fa712084b0d",
   "metadata": {},
   "source": [
    "## Installing pycontrails\n",
    "\n",
    "This command installs pycontrails plus all optional dependencies besides `jupyter`, which conflicts with Colab requirements. It also installs\n",
    "- `pyarrow`: to read parquet files"
   ]
  },
  {
   "cell_type": "code",
   "execution_count": null,
   "id": "d42400c0-5de3-47fc-9948-b779dc66c338",
   "metadata": {
    "scrolled": true
   },
   "outputs": [],
   "source": [
    "!pip install \"pycontrails[ecmwf,gcp,gfs,pyproj,sat,vis,zarr]\"\n",
    "!pip install pyarrow"
   ]
  },
  {
   "cell_type": "markdown",
   "id": "eb35c754-b7b3-4abb-95c4-b7d59a7967d7",
   "metadata": {},
   "source": [
    "## Download required data\n",
    "\n",
    "This command downloads meteorology and flight data from a public cloud bucket. Downloading the data rather than reading it directly from cloud storage avoids the need for users to authenticate using a Google Cloud account."
   ]
  },
  {
   "cell_type": "code",
   "execution_count": null,
   "id": "7927db5e-b295-4446-a2cb-bb53dcb69673",
   "metadata": {},
   "outputs": [],
   "source": [
    "!cd ~ && \\\n",
    "    wget https://storage.googleapis.com/2024-06-contrails-workshop/apcemm/iagos.pq && \\\n",
    "    wget https://storage.googleapis.com/2024-06-contrails-workshop/apcemm/era5.zarr.zip && \\\n",
    "    unzip era5.zarr.zip && \\\n",
    "    rm era5.zarr.zip"
   ]
  },
  {
   "cell_type": "markdown",
   "id": "e63120f8-be6e-4a40-9887-b18349c9d27e",
   "metadata": {},
   "source": [
    "## Case 1: APCEMM with idealized meteorology\n",
    "\n",
    "We will use an idealized case (a contrail that forms in an ISSR of finite depth and limited time duration) to demonstrate the workflow for a single APCEMM simulation."
   ]
  },
  {
   "cell_type": "markdown",
   "id": "1cdbb3e6-0292-41b7-91c4-e689911ff221",
   "metadata": {},
   "source": [
    "### Step 1a: constructing meteorology input file\n",
    "\n",
    "APCEMM expects meteorology data to be provided in a netCDF file that contains a timeseries of atmospheric profiles along the Lagrangian trajectory of an advected contrail segment. Note that the trajectory of the advected segment must be estimated *before* running APCEMM. Unlike CoCiP, APCEMM does not internally track changes to contrail position over time.\n",
    "\n",
    "APCEMM requires pressure at t = 0 plus time-varying temperature, RH over ice, segment-normal wind shear, and vertical velocity* as input. We will use the pressure and temperature profiles from the [International Standard Atmosphere](https://en.wikipedia.org/wiki/International_Standard_Atmosphere), a simple step function for RHi, and constant value of 0.01 1/s and 0 m/s for segment-normal shear and vertical velocity. "
   ]
  },
  {
   "cell_type": "code",
   "execution_count": null,
   "id": "09ad66b9-f915-4c76-9fe0-64c1efbc1f55",
   "metadata": {},
   "outputs": [],
   "source": [
    "import matplotlib.pyplot as plt\n",
    "import numpy as np\n",
    "import xarray as xr"
   ]
  },
  {
   "cell_type": "code",
   "execution_count": null,
   "id": "2eff0228-6193-46d7-97b3-71b538f25f4d",
   "metadata": {},
   "outputs": [],
   "source": [
    "z = np.linspace(0, 20, 41)  # altitude (km)\n",
    "t = np.linspace(0, 4, 49)  # elapsed time (hours)"
   ]
  },
  {
   "cell_type": "code",
   "execution_count": null,
   "id": "075ef0fb-ad48-4b55-82b3-91abb92a430b",
   "metadata": {},
   "outputs": [],
   "source": [
    "zz, tt = np.meshgrid(z, t, indexing=\"ij\")"
   ]
  },
  {
   "cell_type": "code",
   "execution_count": null,
   "id": "59ad1224-bf89-4a4b-887a-ef484411d648",
   "metadata": {},
   "outputs": [],
   "source": [
    "p = np.where(\n",
    "    z < 11.0,\n",
    "    101325*(1 - 6.5*z/288.15)**(9.80/(6.5e-3*287)),\n",
    "    22632*np.exp(-9.80*(z - 11)*1e3/(287*216.65))\n",
    ")\n",
    "T = np.where(zz < 11.0, 288.15 - 6.5*zz, 216.65)\n",
    "rhi = np.where((tt <= 0.5) & (zz > 9) & (zz < 11), 1.2, 0.2)\n",
    "shear = np.full_like(zz, 0.01)\n",
    "w = np.full_like(zz, 0.0)"
   ]
  },
  {
   "cell_type": "code",
   "execution_count": null,
   "id": "5eae1c12-637e-48fc-a554-df9f87b1df22",
   "metadata": {},
   "outputs": [],
   "source": [
    "ds = xr.Dataset(data_vars = {\n",
    "    \"pressure\": ((\"altitude\",), p/100, {\"units\": \"hPa\"}),\n",
    "    \"temperature\": ((\"altitude\", \"time\"), T, {\"units\": \"K\"}),\n",
    "    \"relative_humidity_ice\": ((\"altitude\", \"time\"), rhi*100, {\"units\": \"percent\"}),\n",
    "    \"shear\": ((\"altitude\", \"time\"), shear, {\"units\": \"1/s\"}),\n",
    "    \"w\": ((\"altitude\", \"time\"), w, {\"units\": \"m/s\"})\n",
    "}, coords = {\n",
    "    \"altitude\": (\"altitude\", z, {\"units\": \"km\"}),\n",
    "    \"time\": (\"time\", t, {\"units\": \"hours\"})\n",
    "})  "
   ]
  },
  {
   "cell_type": "code",
   "execution_count": null,
   "id": "8ce41832-b9e3-45a5-aa74-2cbaac607638",
   "metadata": {},
   "outputs": [],
   "source": [
    "plt.figure(figsize=(12.8, 4.8))\n",
    "plt.subplot(121)\n",
    "ds[\"relative_humidity_ice\"].plot()\n",
    "plt.subplot(122)\n",
    "ds[\"temperature\"].plot()"
   ]
  },
  {
   "cell_type": "markdown",
   "id": "47d5e599-6bb2-447b-8f72-18d4aeab33de",
   "metadata": {},
   "source": [
    "### Step 1b: constructing input YAML file\n",
    "\n",
    "Most APCEMM input parameters are configured in a YAML file. The file format is largely self-describing, and examples distributed with APCEMM include explanatory comments. We will generate the YAML file using some pycontrails utilities that expose many (but, for now, not all) of the YAML file parameters.\n",
    "\n",
    "The pycontrails utilities require that the user provide\n",
    "- the initial exhaust plume location (we will pick an arbitrary location)\n",
    "- meteorological conditions at the point of emission (we will derive these from the idealized meteorology dataset)\n",
    "- aircraft performance and emissions parameters (we will use nominal values)\n",
    "\n",
    "Other YAML parameters are set to reasonable default values but can be overriden by the user. Note that the default time step for APCEMM numerics is set to 1 minute, a conservative value that is likely shorter than required."
   ]
  },
  {
   "cell_type": "code",
   "execution_count": null,
   "id": "41065c9e-5e6d-4bbd-af12-294ca56ca16b",
   "metadata": {},
   "outputs": [],
   "source": [
    "from pycontrails.models.apcemm import utils\n",
    "from pycontrails.models.apcemm.inputs import APCEMMInput\n",
    "from pycontrails.physics import thermo"
   ]
  },
  {
   "cell_type": "code",
   "execution_count": null,
   "id": "5d8c0fea-31dd-4a1b-b895-0f33006e04ac",
   "metadata": {},
   "outputs": [],
   "source": [
    "iz = 20  # form contrail at 10 km\n",
    "theta = T[:,0]*(p[0]/p)**(287/1000)\n",
    "params = APCEMMInput(\n",
    "    # required parameters\n",
    "    longitude=0,\n",
    "    latitude=45,\n",
    "    day_of_year=1,\n",
    "    hour_of_day=12,\n",
    "    air_pressure=p[iz],\n",
    "    air_temperature=T[iz,0],\n",
    "    rhw=rhi[iz,0]*thermo.e_sat_ice(T[iz,0])/thermo.e_sat_liquid(T[iz,0]),\n",
    "    normal_shear=shear[iz,0],\n",
    "    brunt_vaisala_frequency=np.sqrt((theta[iz+1] - theta[iz-1])/(z[iz+1] - z[iz-1])/theta[iz]),\n",
    "    nox_ei=10e-3,\n",
    "    co_ei=1e-3,\n",
    "    hc_ei=0.6e-3,\n",
    "    so2_ei=1.2e-3,\n",
    "    nvpm_ei_m=0.008e-3,\n",
    "    soot_radius=20e-9,\n",
    "    fuel_flow=0.7,\n",
    "    aircraft_mass=1e5,\n",
    "    true_airspeed=260.0,\n",
    "    n_engine=2,\n",
    "    wingspan=35,\n",
    "    core_exit_temp=550,\n",
    "    core_exit_area=1,\n",
    "    # optional parameters\n",
    "    max_age=np.timedelta64(4, \"h\"),  # stop after no more than 4 hours\n",
    "    dt_input_met=np.timedelta64(5, \"m\"),  # must match time step of met input file\n",
    "    dt_apcemm_nc_output=np.timedelta64(10, \"m\"),  # frequency of netcdf output files\n",
    ")"
   ]
  },
  {
   "cell_type": "markdown",
   "id": "a52f35a8-338d-4e11-a51a-a27c1768a7c0",
   "metadata": {},
   "source": [
    "### Step 2: write input files to disk and run APCEMM"
   ]
  },
  {
   "cell_type": "code",
   "execution_count": null,
   "id": "d7cff53c-ec46-41d8-87d9-a8ab062cc445",
   "metadata": {},
   "outputs": [],
   "source": [
    "import xarray as xr"
   ]
  },
  {
   "cell_type": "code",
   "execution_count": null,
   "id": "02e8abd8-9a42-4f79-a84e-f17f193e9a6c",
   "metadata": {},
   "outputs": [],
   "source": [
    "import os"
   ]
  },
  {
   "cell_type": "code",
   "execution_count": null,
   "id": "aa1e8b7b-aaad-4604-a07f-20faf96ede20",
   "metadata": {},
   "outputs": [],
   "source": [
    "rundir = os.path.expanduser(\"~/APCEMM_run/case_1\")\n",
    "os.makedirs(rundir, exist_ok=True)\n",
    "\n",
    "with open(os.path.join(rundir, \"input.yaml\"), \"w\") as f:\n",
    "    yaml = utils.generate_apcemm_input_yaml(params)\n",
    "    f.write(yaml)\n",
    "\n",
    "ds.to_netcdf(os.path.join(rundir, \"input.nc\"))"
   ]
  },
  {
   "cell_type": "code",
   "execution_count": null,
   "id": "0878c6b4-3e96-4a48-9e9a-4a0e73a98216",
   "metadata": {
    "scrolled": true
   },
   "outputs": [],
   "source": [
    "!cd ~/APCEMM_run/case_1 && ~/APCEMM/build/APCEMM input.yaml"
   ]
  },
  {
   "cell_type": "markdown",
   "id": "85a3ece7-5564-45db-addc-7f4fa717eaf1",
   "metadata": {},
   "source": [
    "### Step 3: view output\n",
    "\n",
    "The APCEMM simulation created two types output files inside a subdirectory called `out`:\n",
    "- `Micro000000.out`: output from the \"early plume model\"; i.e., the parameterization of the aircraft exhaust plume and downwash vortex, formatted as a CSV file\n",
    "- `ts_aerosol_case0_HHMM.nc`: output from a finite volume model of the contrail cross-section initialized from the early plume model, formatted as netCDF files with HHMM replaced by the hour and minute of the simulation when each file was written."
   ]
  },
  {
   "cell_type": "code",
   "execution_count": null,
   "id": "0b5bdae9-a818-40cd-bd75-7ae353db3681",
   "metadata": {},
   "outputs": [],
   "source": [
    "import pandas as pd"
   ]
  },
  {
   "cell_type": "markdown",
   "id": "ebb55691-e88f-4fb1-9204-92f4a29417e0",
   "metadata": {},
   "source": [
    "The early plume model resolves the transient spike in relative humidity as the exhaust plume mixes with ambient air:"
   ]
  },
  {
   "cell_type": "code",
   "execution_count": null,
   "id": "ee281a02-2498-4e87-8fbb-c0d475a29a0e",
   "metadata": {},
   "outputs": [],
   "source": [
    "df = pd.read_csv(os.path.join(rundir, \"out\", \"Micro000000.out\"), skiprows=[1]).rename(columns=lambda x: x.strip())"
   ]
  },
  {
   "cell_type": "code",
   "execution_count": null,
   "id": "93177798-8e70-482a-a56b-6765518941dd",
   "metadata": {},
   "outputs": [],
   "source": [
    "plt.plot(df[\"Time [s]\"], df[\"RH_w [-]\"], \"b-\", label=\"over water\")\n",
    "plt.plot(df[\"Time [s]\"], df[\"RH_i [-]\"], \"k-\", label=\"over ice\")\n",
    "plt.xlabel(\"Elapsed time (s)\")\n",
    "plt.ylabel(\"Relative humidity (nondim.)\")\n",
    "plt.gca().set_xscale(\"log\")\n",
    "plt.gca().axhline(y=1, color=\"gray\", zorder=-1)\n",
    "plt.legend(loc=\"upper left\", frameon=False)"
   ]
  },
  {
   "cell_type": "markdown",
   "id": "114f0e55-490d-46bb-b9f5-9a6173693270",
   "metadata": {},
   "source": [
    "The finite-volume model simulates the evolution of the contrail that forms from the exhaust plume. It relaxes the Gaussian plume assumption used by CoCiP..."
   ]
  },
  {
   "cell_type": "code",
   "execution_count": null,
   "id": "186e2aa7-d64b-4023-a41d-206fa460293c",
   "metadata": {},
   "outputs": [],
   "source": [
    "plt.figure(figsize=(12.8, 9.6))\n",
    "plt.subplot(221)\n",
    "ds = xr.open_dataset(os.path.join(rundir, \"out\", \"ts_aerosol_case0_0010.nc\"), decode_cf=False)\n",
    "ds[\"IWC\"].plot(cmap=\"Blues_r\", vmin=0)\n",
    "plt.annotate(\"00:10\", xy=(0.98, 0.98), xycoords=\"axes fraction\", va=\"top\", ha=\"right\", color=\"white\")\n",
    "\n",
    "plt.subplot(222)\n",
    "ds = xr.open_dataset(os.path.join(rundir, \"out\", \"ts_aerosol_case0_0030.nc\"), decode_cf=False)\n",
    "ds[\"IWC\"].plot(cmap=\"Blues_r\", vmin=0)\n",
    "plt.annotate(\"00:30\", xy=(0.98, 0.98), xycoords=\"axes fraction\", va=\"top\", ha=\"right\", color=\"white\")\n",
    "\n",
    "plt.subplot(223)\n",
    "ds = xr.open_dataset(os.path.join(rundir, \"out\", \"ts_aerosol_case0_0100.nc\"), decode_cf=False)\n",
    "ds[\"IWC\"].plot(cmap=\"Blues_r\", vmin=0)\n",
    "plt.annotate(\"01:00\", xy=(0.98, 0.98), xycoords=\"axes fraction\", va=\"top\", ha=\"right\", color=\"white\")\n",
    "\n",
    "plt.subplot(224)\n",
    "ds = xr.open_dataset(os.path.join(rundir, \"out\", \"ts_aerosol_case0_0230.nc\"), decode_cf=False)\n",
    "ds[\"IWC\"].plot(cmap=\"Blues_r\", vmin=0)\n",
    "plt.annotate(\"02:30\", xy=(0.98, 0.98), xycoords=\"axes fraction\", va=\"top\", ha=\"right\", color=\"white\")"
   ]
  },
  {
   "cell_type": "markdown",
   "id": "a45bee4f-99a5-41b3-938f-0a3e35c3838c",
   "metadata": {},
   "source": [
    "... and explicitly simulates the evolution of the ice crystal size distribution."
   ]
  },
  {
   "cell_type": "code",
   "execution_count": null,
   "id": "f56aae9e-96ee-4bd9-8764-c01b8a40a9dc",
   "metadata": {},
   "outputs": [],
   "source": [
    "plt.figure()\n",
    "\n",
    "ds = xr.open_dataset(os.path.join(rundir, \"out\", \"ts_aerosol_case0_0010.nc\"), decode_cf=False)\n",
    "plt.plot(ds[\"r\"]*1e6, ds[\"Overall size distribution\"]/1e6, label=\"00:10\")\n",
    "\n",
    "ds = xr.open_dataset(os.path.join(rundir, \"out\", \"ts_aerosol_case0_0030.nc\"), decode_cf=False)\n",
    "plt.plot(ds[\"r\"]*1e6, ds[\"Overall size distribution\"]/1e6, label=\"00:30\")\n",
    "\n",
    "ds = xr.open_dataset(os.path.join(rundir, \"out\", \"ts_aerosol_case0_0100.nc\"), decode_cf=False)\n",
    "plt.plot(ds[\"r\"]*1e6, ds[\"Overall size distribution\"]/1e6, label=\"01:00\")\n",
    "\n",
    "ds = xr.open_dataset(os.path.join(rundir, \"out\", \"ts_aerosol_case0_0230.nc\"), decode_cf=False)\n",
    "plt.plot(ds[\"r\"]*1e6, ds[\"Overall size distribution\"]/1e6*100, label=\"02:30 (x100)\")\n",
    "\n",
    "plt.xlabel(r\"Radius ($\\mu$m)\")\n",
    "plt.ylabel(r\"Density (particles/$\\mu$m)\")\n",
    "plt.legend(loc=\"upper right\", frameon=False)"
   ]
  },
  {
   "cell_type": "markdown",
   "id": "c4691b82-7d8d-4178-b59b-23ebf32ba4bd",
   "metadata": {},
   "source": [
    "## Case 2: APCEMM on a real-world flight\n",
    "\n",
    "We'll select an IAGOS flight between San Diego and Frankfurt in early February 2019 and use the pycontrails APCEMM interface to run APCEMM simulations initialized at a couple of waypoints. The interface is designed to be similar to other pycontrails models: you load meteorology data into a [MetDataset](https://py.contrails.org/api/pycontrails.MetDataset.html#pycontrails.MetDataset), create an [APCEMM]() model, and call the model's `eval` method on a [Flight](https://py.contrails.org/api/pycontrails.core.flight.html#pycontrails.core.flight.Flight) instance."
   ]
  },
  {
   "cell_type": "code",
   "execution_count": null,
   "id": "298f7019-c815-46a4-a32f-431628c94269",
   "metadata": {},
   "outputs": [],
   "source": [
    "import cartopy.crs as ccrs\n",
    "import matplotlib.dates as mdates\n",
    "\n",
    "from pycontrails.core import MetDataset, Flight\n",
    "from pycontrails.models.apcemm import APCEMM\n",
    "from pycontrails.models.issr import ISSR\n",
    "from pycontrails.models.humidity_scaling import HistogramMatching\n",
    "from pycontrails.models.ps_model import PSFlight"
   ]
  },
  {
   "cell_type": "markdown",
   "id": "11a6c18d-432c-4afa-a941-acc5f262e6de",
   "metadata": {},
   "source": [
    "### Step 1: load meteorology and flight data\n",
    "\n",
    "The required data is staged in a public cloud bucket for this lab. After loading the data, we'll use the pycontrails [ISSR](https://py.contrails.org/api/pycontrails.models.issr.html#pycontrails.models.issr.ISSR) model to quickly compute and plot ERA5 RHi at the two waypoints where we'll run APCEMM."
   ]
  },
  {
   "cell_type": "code",
   "execution_count": null,
   "id": "29c43e07-d725-451e-bf37-1cd180b115ad",
   "metadata": {},
   "outputs": [],
   "source": [
    "ds = xr.open_zarr(\"~/era5.zarr\")\n",
    "met = MetDataset(ds, provider=\"ECMWF\", dataset=\"ERA5\", product=\"reanalysis\")"
   ]
  },
  {
   "cell_type": "code",
   "execution_count": null,
   "id": "3bf1c485-ab4c-4355-8eb4-af3e628d6c93",
   "metadata": {},
   "outputs": [],
   "source": [
    "df = pd.read_parquet(\"~/iagos.pq\")\n",
    "flight = Flight(data=df, attrs={\"flight_id\": \"0\"}).resample_and_fill(\"1min\")"
   ]
  },
  {
   "cell_type": "code",
   "execution_count": null,
   "id": "2ba0be9d-a3c3-42a9-ad80-22f070cb01f2",
   "metadata": {},
   "outputs": [],
   "source": [
    "model = ISSR(met=met, humidity_scaling=HistogramMatching())\n",
    "result = model.eval(flight)"
   ]
  },
  {
   "cell_type": "code",
   "execution_count": null,
   "id": "044bc8df-92d2-48d0-a97a-80fb5c7e6f03",
   "metadata": {},
   "outputs": [],
   "source": [
    "waypoints = [180, 300]"
   ]
  },
  {
   "cell_type": "code",
   "execution_count": null,
   "id": "320ee426-4a5f-4b69-a907-139ec9d6b55a",
   "metadata": {},
   "outputs": [],
   "source": [
    "ax = plt.subplot(111, projection=ccrs.PlateCarree())\n",
    "ax.coastlines()\n",
    "ax.set_global()\n",
    "ax.plot(flight[\"longitude\"], flight[\"latitude\"], \"b-\", transform=ccrs.Geodetic())\n",
    "for idx in waypoints:\n",
    "    ax.plot(flight[\"longitude\"][idx], flight[\"latitude\"][idx], \"r.\", transform=ccrs.Geodetic())"
   ]
  },
  {
   "cell_type": "code",
   "execution_count": null,
   "id": "7d8d1fdc-813a-4a8f-af5c-9b78d2610385",
   "metadata": {},
   "outputs": [],
   "source": [
    "plt.plot(df[\"time\"], df[\"rhi\"], \"k-\", label=\"IAGOS\")\n",
    "plt.plot(result[\"time\"], result[\"rhi\"], \"b-\", label=\"ERA5\")\n",
    "plt.legend(loc=\"best\", frameon=False)\n",
    "plt.xlabel(\"Time\")\n",
    "plt.ylabel(\"RHi (nondim)\")\n",
    "plt.gca().xaxis.set_major_locator(plt.MaxNLocator(5))\n",
    "plt.gca().xaxis.set_major_formatter(mdates.DateFormatter(\"%m-%d %H:%M\"))\n",
    "for idx in waypoints:\n",
    "    plt.gca().axvline(flight[\"time\"][idx], color=\"red\", zorder=-1)"
   ]
  },
  {
   "cell_type": "markdown",
   "id": "7ec3ddae-1726-4259-9ab2-6b2637110291",
   "metadata": {},
   "source": [
    "### Step 2: create and evaluate an `APCEMM` model\n",
    "\n",
    "This model automates the steps we did by hand before running the idealized APCEMM case earlier in the lab. Specifically, it\n",
    "- runs an aircraft performance model (in this case [PSFlight](https://py.contrails.org/api/pycontrails.models.ps_model.PSFlight.html)) to compute performance and emissions parameters,\n",
    "- combines results from the aircraft performance model and meteorology data to create input YAML files, \n",
    "- runs a [DryAdvection](https://py.contrails.org/notebooks/advection.html) model to estimate the Lagrangian trajectories of advected contrail segments,\n",
    "- uses the computed trajectories plus the MetDataset passed to the model to create netCDF meteorology files in the format expected by APCEMM,\n",
    "- creates run directories (under in `~/.cache/pycontrails/apcemm` by default, though this can be changed by passing a custom [DiskCacheStore](https://py.contrails.org/api/pycontrails.DiskCacheStore.html#pycontrails-diskcachestore) to the model) and writes YAML and netCDF input files to disk,\n",
    "- runs APCEMM simulations, and\n",
    "- does light postprocessing of APCEMM output.\n",
    "\n",
    "To limit runtime, we'll set the maximum simulation duration to 1 hour and increase the APCEMM timestep to 10 minutes."
   ]
  },
  {
   "cell_type": "code",
   "execution_count": null,
   "id": "c0e775c2-c68e-42e2-9b1c-a3b458dcddaf",
   "metadata": {},
   "outputs": [],
   "source": [
    "model = APCEMM(\n",
    "    apcemm_path=os.path.expanduser(\"~/APCEMM/build/APCEMM\"),\n",
    "    met=met,\n",
    "    max_age=np.timedelta64(2, \"h\"),\n",
    "    aircraft_performance=PSFlight(),\n",
    "    humidity_scaling=HistogramMatching(),\n",
    "    apcemm_input_params=dict(\n",
    "        dt_apcemm_nc_output=np.timedelta64(10, \"m\"),\n",
    "        dt_apcemm_transport=np.timedelta64(10, \"m\"),\n",
    "        dt_apcemm_coagulation=np.timedelta64(10, \"m\"),\n",
    "        dt_apcemm_ice_growth=np.timedelta64(10, \"m\")\n",
    "    ) \n",
    ")"
   ]
  },
  {
   "cell_type": "code",
   "execution_count": null,
   "id": "91561e8e-bdfc-4f12-909c-3b9332da39d6",
   "metadata": {},
   "outputs": [],
   "source": [
    "result = model.eval(flight, waypoints=waypoints, n_jobs=1)"
   ]
  },
  {
   "cell_type": "markdown",
   "id": "8405953a-c0b2-4c20-85fd-94795260115f",
   "metadata": {},
   "source": [
    "### Step 3: examine model output"
   ]
  },
  {
   "cell_type": "markdown",
   "id": "7e35e61f-a41d-400a-b7ad-99d42a62c943",
   "metadata": {},
   "source": [
    "Lagrangian trajectories of advected contrail segments are stored in `model.trajectories`. (Note that Lagrangian trajectories are computed for all waypoints, not just waypoints where APCEMM simulations are initialized, but we'll plot them only for waypoints where we ran simulations.)"
   ]
  },
  {
   "cell_type": "code",
   "execution_count": null,
   "id": "c6fa550a-484d-49eb-976c-865458a12c08",
   "metadata": {},
   "outputs": [],
   "source": [
    "model.trajectories"
   ]
  },
  {
   "cell_type": "code",
   "execution_count": null,
   "id": "aa23e726-ab68-496f-bc8b-319644a4c44d",
   "metadata": {},
   "outputs": [],
   "source": [
    "df = model.trajectories.dataframe\n",
    "\n",
    "ax = plt.subplot(111, projection=ccrs.PlateCarree())\n",
    "ax.coastlines()\n",
    "ax.set_extent([-110, -50, 30, 65], crs=ccrs.Geodetic())\n",
    "ax.plot(flight[\"longitude\"], flight[\"latitude\"], \"b-\", transform=ccrs.Geodetic(), label=\"Flight trajectory\")\n",
    "for i, waypoint in enumerate(waypoints):\n",
    "    label = \"Contrail segment trajectories\" if i == 0 else \"\"\n",
    "    head = flight.dataframe[flight.dataframe.index == waypoint]\n",
    "    tail = df[df[\"waypoint\"] == waypoint]\n",
    "    traj = pd.concat((head, tail))\n",
    "    ax.plot(traj[\"longitude\"], traj[\"latitude\"], \"r-\", transform=ccrs.Geodetic(), label=label)\n",
    "ax.legend(loc=\"upper left\")"
   ]
  },
  {
   "cell_type": "markdown",
   "id": "812a3009-7bf3-4fe0-a490-b2edbf474303",
   "metadata": {},
   "source": [
    "The output from `model.eval` stores quantities calculated for APCEMM input files plus the status of APCEMM simulations initialized at each waypoint."
   ]
  },
  {
   "cell_type": "code",
   "execution_count": null,
   "id": "195fcae0-f96e-419e-b224-3305fa9e4ab4",
   "metadata": {},
   "outputs": [],
   "source": [
    "result"
   ]
  },
  {
   "cell_type": "markdown",
   "id": "8380e0fe-8a69-489b-a3d5-1094df38a4e8",
   "metadata": {},
   "source": [
    "\"Incomplete\" indicates that a persistent contrail formed but did not dissipate before the maximum simulation time was reached."
   ]
  },
  {
   "cell_type": "code",
   "execution_count": null,
   "id": "aa4cfb57-e032-465d-9620-bbfa00a34f85",
   "metadata": {},
   "outputs": [],
   "source": [
    "result.dataframe[result.dataframe[\"waypoint\"] == 180][\"status\"]"
   ]
  },
  {
   "cell_type": "markdown",
   "id": "11cd5fd3-e74c-4133-803f-03cb8484bd85",
   "metadata": {},
   "source": [
    "\"NoWaterSaturation\" indicates that no contrail formed because the exhaust plume never reached saturation over liquid water while mixing with ambient air."
   ]
  },
  {
   "cell_type": "code",
   "execution_count": null,
   "id": "bfb336a9-2b94-40f4-8cfc-d23336b779be",
   "metadata": {},
   "outputs": [],
   "source": [
    "result.dataframe[result.dataframe[\"waypoint\"] == 300][\"status\"]"
   ]
  },
  {
   "cell_type": "markdown",
   "id": "ff61c3fa-2519-43df-8b31-604f6afe155a",
   "metadata": {},
   "source": [
    "\"NoSimulation\" indicates that no APCEMM simulation was initialize at the waypoint:"
   ]
  },
  {
   "cell_type": "code",
   "execution_count": null,
   "id": "10e4cf6c-e6af-403d-bceb-288218adf995",
   "metadata": {},
   "outputs": [],
   "source": [
    "result.dataframe[result.dataframe[\"waypoint\"] == 400][\"status\"]"
   ]
  },
  {
   "cell_type": "markdown",
   "id": "4a97f9ee-92cb-4d49-af40-8af98e93fd1f",
   "metadata": {},
   "source": [
    "Output from the APCEMM early plume model is stored in a DataFrame in `model.vortex`:"
   ]
  },
  {
   "cell_type": "code",
   "execution_count": null,
   "id": "3dd083e1-1f91-41a0-a355-3dd0bc7b3630",
   "metadata": {},
   "outputs": [],
   "source": [
    "model.vortex"
   ]
  },
  {
   "cell_type": "code",
   "execution_count": null,
   "id": "c36afe6e-18df-47ea-8bae-57933879d3eb",
   "metadata": {},
   "outputs": [],
   "source": [
    "plt.figure(figsize=(12.8, 4.8))\n",
    "\n",
    "df = model.vortex[model.vortex[\"waypoint\"] == 180]\n",
    "elapsed_time = (df[\"time\"] - df[\"time\"].min())/np.timedelta64(1, \"s\")\n",
    "plt.subplot(121)\n",
    "plt.plot(elapsed_time, df[\"RH_w [-]\"], \"b-\", label=\"over water\")\n",
    "plt.plot(elapsed_time, df[\"RH_i [-]\"], \"k-\", label=\"over ice\")\n",
    "plt.xlabel(\"Elapsed time (s)\")\n",
    "plt.ylabel(\"Relative humidity (nondim.)\")\n",
    "plt.gca().set_xscale(\"log\")\n",
    "plt.gca().axhline(y=1, color=\"gray\", zorder=-1)\n",
    "plt.title(\"Waypoint 180 (persistent contrail)\")\n",
    "plt.legend(loc=\"upper left\", frameon=False)\n",
    "\n",
    "df = model.vortex[model.vortex[\"waypoint\"] == 300]\n",
    "elapsed_time = (df[\"time\"] - df[\"time\"].min())/np.timedelta64(1, \"s\")\n",
    "plt.subplot(122)\n",
    "plt.plot(elapsed_time, df[\"RH_w [-]\"], \"b-\", label=\"over water\")\n",
    "plt.plot(elapsed_time, df[\"RH_i [-]\"], \"k-\", label=\"over ice\")\n",
    "plt.xlabel(\"Elapsed time (s)\")\n",
    "plt.ylabel(\"Relative humidity (nondim.)\")\n",
    "plt.gca().set_xscale(\"log\")\n",
    "plt.gca().axhline(y=1, color=\"gray\", zorder=-1)\n",
    "plt.title(\"Waypoint 300 (no contrail formation)\")\n",
    "plt.legend(loc=\"upper left\", frameon=False)"
   ]
  },
  {
   "cell_type": "markdown",
   "id": "80342bcb-4263-4c81-aadd-f431ab659aa0",
   "metadata": {},
   "source": [
    "Finally, paths to netCDF output from the finite-volume contrail cross-section model are stored in `model.contrail`:"
   ]
  },
  {
   "cell_type": "code",
   "execution_count": null,
   "id": "3a863aa4-4e99-45b3-b1c6-53e42ae5f010",
   "metadata": {},
   "outputs": [],
   "source": [
    "model.contrail"
   ]
  },
  {
   "cell_type": "code",
   "execution_count": null,
   "id": "2aa4ae5f-d977-4e64-ac32-81051fd87736",
   "metadata": {},
   "outputs": [],
   "source": [
    "plt.figure(figsize=(12.8, 9.6))\n",
    "\n",
    "plt.subplot(221)\n",
    "df = model.contrail.iloc[1]\n",
    "ds = xr.open_dataset(df[\"path\"], decode_cf=False)\n",
    "ds[\"IWC\"].plot(cmap=\"Blues_r\", vmin=0)\n",
    "plt.annotate(df[\"time\"], xy=(0.98, 0.98), xycoords=\"axes fraction\", va=\"top\", ha=\"right\", color=\"white\")\n",
    "\n",
    "plt.subplot(222)\n",
    "df = model.contrail.iloc[4]\n",
    "ds = xr.open_dataset(df[\"path\"], decode_cf=False)\n",
    "ds[\"IWC\"].plot(cmap=\"Blues_r\", vmin=0)\n",
    "plt.annotate(df[\"time\"], xy=(0.98, 0.98), xycoords=\"axes fraction\", va=\"top\", ha=\"right\", color=\"white\")\n",
    "\n",
    "plt.subplot(223)\n",
    "df = model.contrail.iloc[7]\n",
    "ds = xr.open_dataset(df[\"path\"], decode_cf=False)\n",
    "ds[\"IWC\"].plot(cmap=\"Blues_r\", vmin=0)\n",
    "plt.annotate(df[\"time\"], xy=(0.98, 0.98), xycoords=\"axes fraction\", va=\"top\", ha=\"right\", color=\"white\")\n",
    "\n",
    "plt.subplot(224)\n",
    "df = model.contrail.iloc[13]\n",
    "ds = xr.open_dataset(df[\"path\"], decode_cf=False)\n",
    "ds[\"IWC\"].plot(cmap=\"Blues_r\", vmin=0)\n",
    "plt.annotate(df[\"time\"], xy=(0.98, 0.98), xycoords=\"axes fraction\", va=\"top\", ha=\"right\", color=\"white\")"
   ]
  },
  {
   "cell_type": "markdown",
   "id": "07eecbab-9b2c-418e-a70d-bb3c0039df4e",
   "metadata": {},
   "source": [
    "## Concluding remarks\n",
    "\n",
    "- APCEMM is more expensive to run than CoCiP, but simulations can easily be parallelized across waypoints. If you're running on a large machine, the `n_jobs` parameter can be used in the `APCEMM` constructor or in `APCEMM.eval` to run multiple simulations in parallel.\n",
    "\n",
    "- The pycontrails APCEMM interface is relatively immature. If you're interested in using it and it's missing features you need or you think you've found a bug, please get in touch or open an issue on [GitHub](https://github.com/contrailcirrus/pycontrails/issues). (And remember: you do not have to use pycontrails to use APCEMM!)\n",
    "\n",
    "- APCEMM does not provide contrail radiative forcing as an output, though it provides all of the quantities needed to compute contrail radiative forcing offline, and this is a feature we would like to add to the interface eventually. If it's something you'd like to be able to use, please let us know."
   ]
  }
 ],
 "metadata": {
  "kernelspec": {
   "display_name": "Python 3 (ipykernel)",
   "language": "python",
   "name": "python3"
  },
  "language_info": {
   "codemirror_mode": {
    "name": "ipython",
    "version": 3
   },
   "file_extension": ".py",
   "mimetype": "text/x-python",
   "name": "python",
   "nbconvert_exporter": "python",
   "pygments_lexer": "ipython3",
   "version": "3.12.3"
  }
 },
 "nbformat": 4,
 "nbformat_minor": 5
}
